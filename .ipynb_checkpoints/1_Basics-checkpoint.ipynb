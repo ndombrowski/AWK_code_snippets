{
  "cells": [
    {
      "cell_type": "markdown",
      "metadata": {},
      "source": [
        "# AWK basics\n",
        "\n",
        "## Formating tables\n",
        "\n",
        "### Replacing empty space with symbols\n",
        "\n",
        "In a tab delimited file, replace any empty field with a `-`"
      ]
    },
    {
      "cell_type": "code",
      "metadata": {},
      "source": [
        "awk 'BEGIN {FS = OFS = \"\\t\"} {for(i=1; i<=NF; i++) if($i ~ /^ *$/) $i = \"-\" }; 1' input > input_new"
      ],
      "execution_count": null,
      "outputs": []
    },
    {
      "cell_type": "markdown",
      "metadata": {},
      "source": [
        "### Add new columns based on conditions\n",
        "\n",
        "Example usage:\n",
        "If a value in column 4 is larger than the value in column 5 give it a notification, otherwise use a -."
      ]
    },
    {
      "cell_type": "code",
      "metadata": {},
      "source": [
        "wk  -v OFS='\\t' '{if ($4 > $5){ $7=\"high_score\" }else{ $7=\"-\"} print }' input > input_new"
      ],
      "execution_count": null,
      "outputs": []
    },
    {
      "cell_type": "markdown",
      "metadata": {},
      "source": [
        "### Replacing column names\n",
        "\n",
        "Example: replace the first column name to accession"
      ]
    },
    {
      "cell_type": "code",
      "metadata": {},
      "source": [
        "awk 'BEGIN{FS=\"\\t\";FS=\"\\t\"; OFS=\"\\t\"}{if(NR==1) $1=\"accession\"} {print $0 }' input > input_new"
      ],
      "execution_count": null,
      "outputs": []
    },
    {
      "cell_type": "markdown",
      "metadata": {},
      "source": [
        "## Subsetting tables\n",
        "\n",
        "### Print lines that have specific pattern."
      ]
    },
    {
      "cell_type": "code",
      "metadata": {},
      "source": [
        "#just print rows if they contain the word hello in the 5th column\n",
        "awk  '$5 == \"hello\"' Input\n",
        "\n",
        "#look for a pattern and define what we want to print\n",
        "awk '/hello/ {print $1}' Input\n",
        "awk '$5 == \"hello\" {print $1}' Input\n",
        "\n",
        "#we can also search for more than one pattern\n",
        "awk '$1 ~ /John|Eric/ {print $0}' Input\n",
        "\n",
        "#print everything, except rows with John and Eric\n",
        "awk '!/John|Eric/ {print $1,$3}' Input\n",
        "awk '$1 !~ /John|Eric/ {print $1,$3}' Input"
      ],
      "execution_count": null,
      "outputs": []
    },
    {
      "cell_type": "markdown",
      "metadata": {},
      "source": [
        "### Split tables by categories\n",
        "\n",
        "Imagine we have a table listing people from different states, the states are listed in column 3. With awk we can easily split this one table, into multiple tables, one each per state"
      ]
    },
    {
      "cell_type": "code",
      "metadata": {},
      "source": [
        "#print all columns, one table/state\n",
        "awk '{print > $3\".txt\"}'  Input\n",
        "\n",
        "#print only the first column, one table/state\n",
        "awk '{print $1 > $3\".txt\"}'  Input"
      ],
      "execution_count": null,
      "outputs": []
    },
    {
      "cell_type": "markdown",
      "metadata": {},
      "source": [
        "This command will generate several new text files in our working directory.\n",
        "\n",
        "## Splitting columns\n",
        "\n",
        "We can also split columns. \n",
        "For example, we could have something like this in the first column: BinID-accession.\n",
        "Now we want to split this in two columns, one for the binID , the second should contain the accession.\n",
        "\n",
        "Some new syntax for AWK:\n",
        "\n",
        "- **split()** =  the function 'split' divides a string into pieces\n",
        "- **$1** =  The column we want to split\n",
        "- **\"x\"** =  The pattern we want to use for splitting\n",
        "- **a** =  We name the ARRAY we generate 'a'. An ARRAY is similar to a variable you just can store more information in the array we store the different pieces that were split\n",
        "- **a[1]** =  retrieve the first part of the split array =E\n",
        "- **a[2]** =  retrieve the second part of the split array =1"
      ]
    },
    {
      "cell_type": "code",
      "metadata": {},
      "source": [
        "awk 'BEGIN{FS=OFS=\"\\t\"}{split($1,a,\"-\")} {print $1,a[1],a[2]}' Input"
      ],
      "execution_count": null,
      "outputs": []
    },
    {
      "cell_type": "markdown",
      "metadata": {},
      "source": [
        "## print the header of a table"
      ]
    },
    {
      "cell_type": "code",
      "metadata": {},
      "source": [
        "awk -F'\\t' '{for (i = 1; i <= NF; ++i) print i, $i; exit }' temp1"
      ],
      "execution_count": null,
      "outputs": []
    }
  ],
  "metadata": {
    "kernelspec": {
      "name": "bash",
      "language": "bash",
      "display_name": "Bash"
    }
  },
  "nbformat": 4,
  "nbformat_minor": 4
}